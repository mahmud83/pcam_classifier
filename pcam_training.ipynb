{
 "cells": [
  {
   "cell_type": "code",
   "execution_count": 8,
   "metadata": {
    "collapsed": false
   },
   "outputs": [],
   "source": [
    "from keras.applications.mobilenet import MobileNet\n",
    "from keras.models import Model\n",
    "from keras.layers import GlobalAveragePooling2D, Reshape, Dropout, Conv2D, Activation\n",
    "from keras import backend as K\n",
    "from keras.optimizers import Adam"
   ]
  },
  {
   "cell_type": "code",
   "execution_count": 9,
   "metadata": {
    "collapsed": false
   },
   "outputs": [],
   "source": [
    "alpha = 1.0\n",
    "n_classes = 2\n",
    "dropout = 1e-3\n",
    "\n",
    "# Load MobileNet trained to convergence on ImageNet without the final fully connected layer.\n",
    "\n",
    "base_model = MobileNet(input_shape=(96, 96, 3),\n",
    "                       alpha=alpha,\n",
    "                       depth_multiplier=1,\n",
    "                       dropout=dropout,\n",
    "                       include_top=False,\n",
    "                       weights=None, #'imagenet',\n",
    "                       pooling=None)\n",
    "\n",
    "# Add the final layers.\n",
    "\n",
    "x = base_model.output\n",
    "\n",
    "x = GlobalAveragePooling2D()(x)\n",
    "x = Reshape((1, 1, int(1024 * alpha)), name='reshape_1')(x)\n",
    "x = Dropout(dropout, name='dropout')(x)\n",
    "x = Conv2D(n_classes,\n",
    "           (1, 1),\n",
    "           padding='same',\n",
    "           name='conv_preds')(x)\n",
    "x = Activation('softmax', name='act_softmax')(x)\n",
    "x = Reshape((n_classes,), name='reshape_2')(x)\n",
    "\n",
    "model = Model(inputs=base_model.input, outputs=x)\n",
    "\n",
    "adam = Adam(lr=0.001, beta_1=0.9, beta_2=0.999, epsilon=1e-08, decay=0.0)\n",
    "\n",
    "model.compile(optimizer=adam, loss='categorical_crossentropy')"
   ]
  },
  {
   "cell_type": "code",
   "execution_count": null,
   "metadata": {
    "collapsed": true
   },
   "outputs": [],
   "source": []
  }
 ],
 "metadata": {
  "kernelspec": {
   "display_name": "Python 3",
   "language": "python",
   "name": "python3"
  },
  "language_info": {
   "codemirror_mode": {
    "name": "ipython",
    "version": 3
   },
   "file_extension": ".py",
   "mimetype": "text/x-python",
   "name": "python",
   "nbconvert_exporter": "python",
   "pygments_lexer": "ipython3",
   "version": "3.5.2"
  },
  "widgets": {
   "state": {},
   "version": "1.1.2"
  }
 },
 "nbformat": 4,
 "nbformat_minor": 2
}
